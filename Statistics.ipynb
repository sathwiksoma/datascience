{
 "cells": [
  {
   "cell_type": "markdown",
   "id": "ccd5479c",
   "metadata": {},
   "source": [
    "### Descriptive statistics"
   ]
  },
  {
   "cell_type": "code",
   "execution_count": 1,
   "id": "a2664f7a",
   "metadata": {},
   "outputs": [],
   "source": [
    "# calculate mean, median using numpy\n",
    "L = [30,40,60,80,20,100,55,45]"
   ]
  },
  {
   "cell_type": "code",
   "execution_count": 2,
   "id": "45c51d3d",
   "metadata": {},
   "outputs": [],
   "source": [
    "import numpy as np"
   ]
  },
  {
   "cell_type": "code",
   "execution_count": 3,
   "id": "7b7ba58c",
   "metadata": {},
   "outputs": [
    {
     "data": {
      "text/plain": [
       "53.75"
      ]
     },
     "execution_count": 3,
     "metadata": {},
     "output_type": "execute_result"
    }
   ],
   "source": [
    "np.mean(L)"
   ]
  },
  {
   "cell_type": "code",
   "execution_count": 4,
   "id": "716e230e",
   "metadata": {},
   "outputs": [
    {
     "data": {
      "text/plain": [
       "50.0"
      ]
     },
     "execution_count": 4,
     "metadata": {},
     "output_type": "execute_result"
    }
   ],
   "source": [
    "np.median(L)"
   ]
  },
  {
   "cell_type": "code",
   "execution_count": 5,
   "id": "063341b7",
   "metadata": {},
   "outputs": [],
   "source": [
    "L.append(1000)"
   ]
  },
  {
   "cell_type": "code",
   "execution_count": 6,
   "id": "80f14f4f",
   "metadata": {},
   "outputs": [
    {
     "data": {
      "text/plain": [
       "[30, 40, 60, 80, 20, 100, 55, 45, 1000]"
      ]
     },
     "execution_count": 6,
     "metadata": {},
     "output_type": "execute_result"
    }
   ],
   "source": [
    "L"
   ]
  },
  {
   "cell_type": "code",
   "execution_count": 7,
   "id": "382a970c",
   "metadata": {},
   "outputs": [
    {
     "data": {
      "text/plain": [
       "158.88888888888889"
      ]
     },
     "execution_count": 7,
     "metadata": {},
     "output_type": "execute_result"
    }
   ],
   "source": [
    "np.mean(L)"
   ]
  },
  {
   "cell_type": "code",
   "execution_count": 8,
   "id": "7c140b93",
   "metadata": {},
   "outputs": [
    {
     "data": {
      "text/plain": [
       "55.0"
      ]
     },
     "execution_count": 8,
     "metadata": {},
     "output_type": "execute_result"
    }
   ],
   "source": [
    "np.median(L)"
   ]
  },
  {
   "cell_type": "code",
   "execution_count": 9,
   "id": "7737bc90",
   "metadata": {},
   "outputs": [],
   "source": [
    "# Calculate mean and median using statistics library\n",
    "import statistics as stats"
   ]
  },
  {
   "cell_type": "code",
   "execution_count": 10,
   "id": "4287ce7e",
   "metadata": {},
   "outputs": [
    {
     "data": {
      "text/plain": [
       "[30, 40, 60, 80, 20, 100, 55, 45, 1000]"
      ]
     },
     "execution_count": 10,
     "metadata": {},
     "output_type": "execute_result"
    }
   ],
   "source": [
    "L"
   ]
  },
  {
   "cell_type": "code",
   "execution_count": 11,
   "id": "3478bb14",
   "metadata": {},
   "outputs": [
    {
     "data": {
      "text/plain": [
       "158.88888888888889"
      ]
     },
     "execution_count": 11,
     "metadata": {},
     "output_type": "execute_result"
    }
   ],
   "source": [
    "stats.mean(L)"
   ]
  },
  {
   "cell_type": "code",
   "execution_count": 12,
   "id": "36e179a9",
   "metadata": {},
   "outputs": [
    {
     "data": {
      "text/plain": [
       "55"
      ]
     },
     "execution_count": 12,
     "metadata": {},
     "output_type": "execute_result"
    }
   ],
   "source": [
    "stats.median(L)"
   ]
  },
  {
   "cell_type": "code",
   "execution_count": 13,
   "id": "b2fed0a0",
   "metadata": {},
   "outputs": [],
   "source": [
    "L.extend([30,60,60,100,1000])"
   ]
  },
  {
   "cell_type": "code",
   "execution_count": 14,
   "id": "77db53b9",
   "metadata": {},
   "outputs": [
    {
     "data": {
      "text/plain": [
       "[30, 40, 60, 80, 20, 100, 55, 45, 1000, 30, 60, 60, 100, 1000]"
      ]
     },
     "execution_count": 14,
     "metadata": {},
     "output_type": "execute_result"
    }
   ],
   "source": [
    "L"
   ]
  },
  {
   "cell_type": "code",
   "execution_count": 15,
   "id": "606c6088",
   "metadata": {},
   "outputs": [
    {
     "data": {
      "text/plain": [
       "60"
      ]
     },
     "execution_count": 15,
     "metadata": {},
     "output_type": "execute_result"
    }
   ],
   "source": [
    "stats.mode(L)"
   ]
  },
  {
   "cell_type": "code",
   "execution_count": 16,
   "id": "5654f673",
   "metadata": {},
   "outputs": [],
   "source": [
    "L1 = [\"Good\",\"Satisfactory\",\"Excellent\",\"Poor\",\"Excellent\", \"Good\",\"Excellent\"]"
   ]
  },
  {
   "cell_type": "code",
   "execution_count": 17,
   "id": "00097132",
   "metadata": {},
   "outputs": [
    {
     "data": {
      "text/plain": [
       "'Excellent'"
      ]
     },
     "execution_count": 17,
     "metadata": {},
     "output_type": "execute_result"
    }
   ],
   "source": [
    "stats.mode(L1)"
   ]
  },
  {
   "cell_type": "code",
   "execution_count": 18,
   "id": "74bebf10",
   "metadata": {},
   "outputs": [],
   "source": [
    "# Find mean median and mode using pandas\n",
    "import pandas as pd"
   ]
  },
  {
   "cell_type": "code",
   "execution_count": 19,
   "id": "326cd5e8",
   "metadata": {},
   "outputs": [],
   "source": [
    "L1 = [\"Good\",\"Satisfactory\",\"Excellent\",\"Poor\",\"Excellent\", \"Good\",\"Excellent\"]\n",
    "L2 = [1000,3000,6000,1500,1200,2500,4000]"
   ]
  },
  {
   "cell_type": "code",
   "execution_count": 20,
   "id": "a2badbb0",
   "metadata": {},
   "outputs": [],
   "source": [
    "df = pd.DataFrame(zip(L2,L1), columns =[\"Bill Value\",\"rating\"])"
   ]
  },
  {
   "cell_type": "code",
   "execution_count": 21,
   "id": "832f3293",
   "metadata": {},
   "outputs": [
    {
     "data": {
      "text/html": [
       "<div>\n",
       "<style scoped>\n",
       "    .dataframe tbody tr th:only-of-type {\n",
       "        vertical-align: middle;\n",
       "    }\n",
       "\n",
       "    .dataframe tbody tr th {\n",
       "        vertical-align: top;\n",
       "    }\n",
       "\n",
       "    .dataframe thead th {\n",
       "        text-align: right;\n",
       "    }\n",
       "</style>\n",
       "<table border=\"1\" class=\"dataframe\">\n",
       "  <thead>\n",
       "    <tr style=\"text-align: right;\">\n",
       "      <th></th>\n",
       "      <th>Bill Value</th>\n",
       "      <th>rating</th>\n",
       "    </tr>\n",
       "  </thead>\n",
       "  <tbody>\n",
       "    <tr>\n",
       "      <th>0</th>\n",
       "      <td>1000</td>\n",
       "      <td>Good</td>\n",
       "    </tr>\n",
       "    <tr>\n",
       "      <th>1</th>\n",
       "      <td>3000</td>\n",
       "      <td>Satisfactory</td>\n",
       "    </tr>\n",
       "    <tr>\n",
       "      <th>2</th>\n",
       "      <td>6000</td>\n",
       "      <td>Excellent</td>\n",
       "    </tr>\n",
       "    <tr>\n",
       "      <th>3</th>\n",
       "      <td>1500</td>\n",
       "      <td>Poor</td>\n",
       "    </tr>\n",
       "    <tr>\n",
       "      <th>4</th>\n",
       "      <td>1200</td>\n",
       "      <td>Excellent</td>\n",
       "    </tr>\n",
       "    <tr>\n",
       "      <th>5</th>\n",
       "      <td>2500</td>\n",
       "      <td>Good</td>\n",
       "    </tr>\n",
       "    <tr>\n",
       "      <th>6</th>\n",
       "      <td>4000</td>\n",
       "      <td>Excellent</td>\n",
       "    </tr>\n",
       "  </tbody>\n",
       "</table>\n",
       "</div>"
      ],
      "text/plain": [
       "   Bill Value        rating\n",
       "0        1000          Good\n",
       "1        3000  Satisfactory\n",
       "2        6000     Excellent\n",
       "3        1500          Poor\n",
       "4        1200     Excellent\n",
       "5        2500          Good\n",
       "6        4000     Excellent"
      ]
     },
     "execution_count": 21,
     "metadata": {},
     "output_type": "execute_result"
    }
   ],
   "source": [
    "df"
   ]
  },
  {
   "cell_type": "code",
   "execution_count": 22,
   "id": "9dfb559e",
   "metadata": {},
   "outputs": [
    {
     "data": {
      "text/plain": [
       "2742.8571428571427"
      ]
     },
     "execution_count": 22,
     "metadata": {},
     "output_type": "execute_result"
    }
   ],
   "source": [
    "df[\"Bill Value\"].mean()"
   ]
  },
  {
   "cell_type": "code",
   "execution_count": 23,
   "id": "f3d5a619",
   "metadata": {},
   "outputs": [
    {
     "data": {
      "text/plain": [
       "2500.0"
      ]
     },
     "execution_count": 23,
     "metadata": {},
     "output_type": "execute_result"
    }
   ],
   "source": [
    "df[\"Bill Value\"].median()"
   ]
  },
  {
   "cell_type": "code",
   "execution_count": 24,
   "id": "f2a03f76",
   "metadata": {},
   "outputs": [
    {
     "data": {
      "text/plain": [
       "0    Excellent\n",
       "Name: rating, dtype: object"
      ]
     },
     "execution_count": 24,
     "metadata": {},
     "output_type": "execute_result"
    }
   ],
   "source": [
    "df[\"rating\"].mode()"
   ]
  },
  {
   "cell_type": "code",
   "execution_count": 25,
   "id": "c8fd5b29",
   "metadata": {},
   "outputs": [],
   "source": [
    "### find standard deviation and variance of given list\n",
    "\n",
    "import statistics as stats\n",
    "import numpy as np\n",
    "x = [44,50,38,96,42,47,40,39,46,50]"
   ]
  },
  {
   "cell_type": "code",
   "execution_count": 26,
   "id": "32428f92",
   "metadata": {},
   "outputs": [
    {
     "data": {
      "text/plain": [
       "16.12327510154187"
      ]
     },
     "execution_count": 26,
     "metadata": {},
     "output_type": "execute_result"
    }
   ],
   "source": [
    "stats.pstdev(x) #population standard deviation"
   ]
  },
  {
   "cell_type": "code",
   "execution_count": 27,
   "id": "fae8f53f",
   "metadata": {},
   "outputs": [
    {
     "data": {
      "text/plain": [
       "16.995424220784972"
      ]
     },
     "execution_count": 27,
     "metadata": {},
     "output_type": "execute_result"
    }
   ],
   "source": [
    "stats.stdev(x) #standard deviation"
   ]
  },
  {
   "cell_type": "code",
   "execution_count": 28,
   "id": "c77acec5",
   "metadata": {},
   "outputs": [
    {
     "data": {
      "text/plain": [
       "16.123275101541868"
      ]
     },
     "execution_count": 28,
     "metadata": {},
     "output_type": "execute_result"
    }
   ],
   "source": [
    "np.std(x)"
   ]
  },
  {
   "cell_type": "code",
   "execution_count": 29,
   "id": "8b8cd328",
   "metadata": {},
   "outputs": [
    {
     "data": {
      "text/plain": [
       "259.96"
      ]
     },
     "execution_count": 29,
     "metadata": {},
     "output_type": "execute_result"
    }
   ],
   "source": [
    "np.var(x)"
   ]
  },
  {
   "cell_type": "markdown",
   "id": "9c1617d4",
   "metadata": {},
   "source": [
    "### Visualisation - Boxplot"
   ]
  },
  {
   "cell_type": "code",
   "execution_count": 30,
   "id": "d7aae6f5",
   "metadata": {},
   "outputs": [],
   "source": [
    "cars = pd.read_csv(\"cars.csv\")"
   ]
  },
  {
   "cell_type": "code",
   "execution_count": 31,
   "id": "62973cf0",
   "metadata": {},
   "outputs": [
    {
     "data": {
      "text/html": [
       "<div>\n",
       "<style scoped>\n",
       "    .dataframe tbody tr th:only-of-type {\n",
       "        vertical-align: middle;\n",
       "    }\n",
       "\n",
       "    .dataframe tbody tr th {\n",
       "        vertical-align: top;\n",
       "    }\n",
       "\n",
       "    .dataframe thead th {\n",
       "        text-align: right;\n",
       "    }\n",
       "</style>\n",
       "<table border=\"1\" class=\"dataframe\">\n",
       "  <thead>\n",
       "    <tr style=\"text-align: right;\">\n",
       "      <th></th>\n",
       "      <th>HP</th>\n",
       "      <th>MPG</th>\n",
       "      <th>VOL</th>\n",
       "      <th>SP</th>\n",
       "      <th>WT</th>\n",
       "    </tr>\n",
       "  </thead>\n",
       "  <tbody>\n",
       "    <tr>\n",
       "      <th>76</th>\n",
       "      <td>322</td>\n",
       "      <td>36.900000</td>\n",
       "      <td>50</td>\n",
       "      <td>169.598513</td>\n",
       "      <td>16.132947</td>\n",
       "    </tr>\n",
       "    <tr>\n",
       "      <th>77</th>\n",
       "      <td>238</td>\n",
       "      <td>19.197888</td>\n",
       "      <td>115</td>\n",
       "      <td>150.576579</td>\n",
       "      <td>37.923113</td>\n",
       "    </tr>\n",
       "    <tr>\n",
       "      <th>78</th>\n",
       "      <td>263</td>\n",
       "      <td>34.000000</td>\n",
       "      <td>50</td>\n",
       "      <td>151.598513</td>\n",
       "      <td>15.769625</td>\n",
       "    </tr>\n",
       "    <tr>\n",
       "      <th>79</th>\n",
       "      <td>295</td>\n",
       "      <td>19.833733</td>\n",
       "      <td>119</td>\n",
       "      <td>167.944460</td>\n",
       "      <td>39.423099</td>\n",
       "    </tr>\n",
       "    <tr>\n",
       "      <th>80</th>\n",
       "      <td>236</td>\n",
       "      <td>12.101263</td>\n",
       "      <td>107</td>\n",
       "      <td>139.840817</td>\n",
       "      <td>34.948615</td>\n",
       "    </tr>\n",
       "  </tbody>\n",
       "</table>\n",
       "</div>"
      ],
      "text/plain": [
       "     HP        MPG  VOL          SP         WT\n",
       "76  322  36.900000   50  169.598513  16.132947\n",
       "77  238  19.197888  115  150.576579  37.923113\n",
       "78  263  34.000000   50  151.598513  15.769625\n",
       "79  295  19.833733  119  167.944460  39.423099\n",
       "80  236  12.101263  107  139.840817  34.948615"
      ]
     },
     "execution_count": 31,
     "metadata": {},
     "output_type": "execute_result"
    }
   ],
   "source": [
    "cars.tail()"
   ]
  },
  {
   "cell_type": "code",
   "execution_count": 32,
   "id": "80c75de7",
   "metadata": {},
   "outputs": [],
   "source": [
    "import matplotlib.pyplot as plt"
   ]
  },
  {
   "cell_type": "code",
   "execution_count": 33,
   "id": "1e8fd1ff",
   "metadata": {},
   "outputs": [
    {
     "data": {
      "text/plain": [
       "{'whiskers': [<matplotlib.lines.Line2D at 0x196b9454790>,\n",
       "  <matplotlib.lines.Line2D at 0x196b9455510>],\n",
       " 'caps': [<matplotlib.lines.Line2D at 0x196b9372cd0>,\n",
       "  <matplotlib.lines.Line2D at 0x196b9456d10>],\n",
       " 'boxes': [<matplotlib.lines.Line2D at 0x196b90b3350>],\n",
       " 'medians': [<matplotlib.lines.Line2D at 0x196b94578d0>],\n",
       " 'fliers': [<matplotlib.lines.Line2D at 0x196b9460450>],\n",
       " 'means': []}"
      ]
     },
     "execution_count": 33,
     "metadata": {},
     "output_type": "execute_result"
    },
    {
     "data": {
      "image/png": "[encoded data removed]",
      "text/plain": [
       "<Figure size 640x480 with 1 Axes>"
      ]
     },
     "metadata": {},
     "output_type": "display_data"
    }
   ],
   "source": [
    "plt.boxplot(cars[\"MPG\"],vert= False)"
   ]
  },
  {
   "cell_type": "markdown",
   "id": "261149dd",
   "metadata": {},
   "source": [
    "### plotting Histogram"
   ]
  },
  {
   "cell_type": "code",
   "execution_count": 34,
   "id": "50196c47",
   "metadata": {},
   "outputs": [
    {
     "data": {
      "text/plain": [
       "(array([ 1.,  6., 10.,  4., 10., 15., 17.,  8.,  5.,  5.]),\n",
       " array([12.10126289, 16.26120474, 20.42114659, 24.58108844, 28.74103029,\n",
       "        32.90097213, 37.06091398, 41.22085583, 45.38079768, 49.54073953,\n",
       "        53.70068138]),\n",
       " <BarContainer object of 10 artists>)"
      ]
     },
     "execution_count": 34,
     "metadata": {},
     "output_type": "execute_result"
    },
    {
     "data": {
      "image/png": "[encoded data removed]",
      "text/plain": [
       "<Figure size 640x480 with 1 Axes>"
      ]
     },
     "metadata": {},
     "output_type": "display_data"
    }
   ],
   "source": [
    "plt.hist(cars[\"MPG\"])"
   ]
  },
  {
   "cell_type": "code",
   "execution_count": 35,
   "id": "decd1fd1",
   "metadata": {},
   "outputs": [
    {
     "data": {
      "text/plain": [
       "(array([0.0035613 , 0.0035613 , 0.02136782, 0.03561303, 0.01424521,\n",
       "        0.03205173, 0.04985825, 0.05698085, 0.02136782, 0.03205173,\n",
       "        0.01068391, 0.00712261]),\n",
       " array([12.10126289, 15.5678811 , 19.0344993 , 22.50111751, 25.96773572,\n",
       "        29.43435393, 32.90097213, 36.36759034, 39.83420855, 43.30082676,\n",
       "        46.76744496, 50.23406317, 53.70068138]),\n",
       " <BarContainer object of 12 artists>)"
      ]
     },
     "execution_count": 35,
     "metadata": {},
     "output_type": "execute_result"
    },
    {
     "data": {
      "image/png": "[encoded data removed]",
      "text/plain": [
       "<Figure size 640x480 with 1 Axes>"
      ]
     },
     "metadata": {},
     "output_type": "display_data"
    }
   ],
   "source": [
    "plt.hist(cars[\"MPG\"],bins=12, density= True)"
   ]
  },
  {
   "cell_type": "code",
   "execution_count": 36,
   "id": "fbd81813",
   "metadata": {},
   "outputs": [],
   "source": [
    "import seaborn as sns"
   ]
  },
  {
   "cell_type": "code",
   "execution_count": 37,
   "id": "2451cee3",
   "metadata": {},
   "outputs": [
    {
     "data": {
      "text/plain": [
       "<seaborn.axisgrid.FacetGrid at 0x196bc0d0bd0>"
      ]
     },
     "execution_count": 37,
     "metadata": {},
     "output_type": "execute_result"
    },
    {
     "data": {
      "image/png": "[encoded data removed]",
      "text/plain": [
       "<Figure size 500x500 with 1 Axes>"
      ]
     },
     "metadata": {},
     "output_type": "display_data"
    }
   ],
   "source": [
    "sns.displot(cars[\"HP\"],kde = True)"
   ]
  },
  {
   "cell_type": "code",
   "execution_count": 38,
   "id": "a82637ad",
   "metadata": {},
   "outputs": [
    {
     "name": "stderr",
     "output_type": "stream",
     "text": [
      "C:\\Users\\sathw\\AppData\\Local\\Temp\\ipykernel_18932\\2260127687.py:1: UserWarning: \n",
      "\n",
      "`distplot` is a deprecated function and will be removed in seaborn v0.14.0.\n",
      "\n",
      "Please adapt your code to use either `displot` (a figure-level function with\n",
      "similar flexibility) or `histplot` (an axes-level function for histograms).\n",
      "\n",
      "For a guide to updating your code to use the new functions, please see\n",
      "https://gist.github.com/mwaskom/de44147ed2974457ad6372750bbe5751\n",
      "\n",
      "  sns.distplot(cars[\"HP\"],kde = True)\n"
     ]
    },
    {
     "data": {
      "text/plain": [
       "<Axes: xlabel='HP', ylabel='Density'>"
      ]
     },
     "execution_count": 38,
     "metadata": {},
     "output_type": "execute_result"
    },
    {
     "data": {
      "image/png": "[encoded data removed]",
      "text/plain": [
       "<Figure size 640x480 with 1 Axes>"
      ]
     },
     "metadata": {},
     "output_type": "display_data"
    }
   ],
   "source": [
    "sns.distplot(cars[\"HP\"],kde = True)"
   ]
  },
  {
   "cell_type": "code",
   "execution_count": 39,
   "id": "3204d123",
   "metadata": {},
   "outputs": [
    {
     "data": {
      "text/plain": [
       "<seaborn.axisgrid.FacetGrid at 0x196bc126dd0>"
      ]
     },
     "execution_count": 39,
     "metadata": {},
     "output_type": "execute_result"
    },
    {
     "data": {
      "image/png": "[encoded data removed]",
      "text/plain": [
       "<Figure size 500x500 with 1 Axes>"
      ]
     },
     "metadata": {},
     "output_type": "display_data"
    }
   ],
   "source": [
    "sns.displot(cars[\"MPG\"],kde = True)"
   ]
  },
  {
   "cell_type": "code",
   "execution_count": 40,
   "id": "8005024c",
   "metadata": {},
   "outputs": [
    {
     "data": {
      "text/html": [
       "<div>\n",
       "<style scoped>\n",
       "    .dataframe tbody tr th:only-of-type {\n",
       "        vertical-align: middle;\n",
       "    }\n",
       "\n",
       "    .dataframe tbody tr th {\n",
       "        vertical-align: top;\n",
       "    }\n",
       "\n",
       "    .dataframe thead th {\n",
       "        text-align: right;\n",
       "    }\n",
       "</style>\n",
       "<table border=\"1\" class=\"dataframe\">\n",
       "  <thead>\n",
       "    <tr style=\"text-align: right;\">\n",
       "      <th></th>\n",
       "      <th>HP</th>\n",
       "      <th>MPG</th>\n",
       "      <th>VOL</th>\n",
       "      <th>SP</th>\n",
       "      <th>WT</th>\n",
       "    </tr>\n",
       "  </thead>\n",
       "  <tbody>\n",
       "    <tr>\n",
       "      <th>count</th>\n",
       "      <td>81.000000</td>\n",
       "      <td>81.000000</td>\n",
       "      <td>81.000000</td>\n",
       "      <td>81.000000</td>\n",
       "      <td>81.000000</td>\n",
       "    </tr>\n",
       "    <tr>\n",
       "      <th>mean</th>\n",
       "      <td>117.469136</td>\n",
       "      <td>34.422076</td>\n",
       "      <td>98.765432</td>\n",
       "      <td>121.540272</td>\n",
       "      <td>32.412577</td>\n",
       "    </tr>\n",
       "    <tr>\n",
       "      <th>std</th>\n",
       "      <td>57.113502</td>\n",
       "      <td>9.131445</td>\n",
       "      <td>22.301497</td>\n",
       "      <td>14.181432</td>\n",
       "      <td>7.492813</td>\n",
       "    </tr>\n",
       "    <tr>\n",
       "      <th>min</th>\n",
       "      <td>49.000000</td>\n",
       "      <td>12.101263</td>\n",
       "      <td>50.000000</td>\n",
       "      <td>99.564907</td>\n",
       "      <td>15.712859</td>\n",
       "    </tr>\n",
       "    <tr>\n",
       "      <th>25%</th>\n",
       "      <td>84.000000</td>\n",
       "      <td>27.856252</td>\n",
       "      <td>89.000000</td>\n",
       "      <td>113.829145</td>\n",
       "      <td>29.591768</td>\n",
       "    </tr>\n",
       "    <tr>\n",
       "      <th>50%</th>\n",
       "      <td>100.000000</td>\n",
       "      <td>35.152727</td>\n",
       "      <td>101.000000</td>\n",
       "      <td>118.208698</td>\n",
       "      <td>32.734518</td>\n",
       "    </tr>\n",
       "    <tr>\n",
       "      <th>75%</th>\n",
       "      <td>140.000000</td>\n",
       "      <td>39.531633</td>\n",
       "      <td>113.000000</td>\n",
       "      <td>126.404312</td>\n",
       "      <td>37.392524</td>\n",
       "    </tr>\n",
       "    <tr>\n",
       "      <th>max</th>\n",
       "      <td>322.000000</td>\n",
       "      <td>53.700681</td>\n",
       "      <td>160.000000</td>\n",
       "      <td>169.598513</td>\n",
       "      <td>52.997752</td>\n",
       "    </tr>\n",
       "  </tbody>\n",
       "</table>\n",
       "</div>"
      ],
      "text/plain": [
       "               HP        MPG         VOL          SP         WT\n",
       "count   81.000000  81.000000   81.000000   81.000000  81.000000\n",
       "mean   117.469136  34.422076   98.765432  121.540272  32.412577\n",
       "std     57.113502   9.131445   22.301497   14.181432   7.492813\n",
       "min     49.000000  12.101263   50.000000   99.564907  15.712859\n",
       "25%     84.000000  27.856252   89.000000  113.829145  29.591768\n",
       "50%    100.000000  35.152727  101.000000  118.208698  32.734518\n",
       "75%    140.000000  39.531633  113.000000  126.404312  37.392524\n",
       "max    322.000000  53.700681  160.000000  169.598513  52.997752"
      ]
     },
     "execution_count": 40,
     "metadata": {},
     "output_type": "execute_result"
    }
   ],
   "source": [
    "cars.describe()"
   ]
  },
  {
   "cell_type": "code",
   "execution_count": 41,
   "id": "64c6d641",
   "metadata": {},
   "outputs": [],
   "source": [
    "def z_scores(x,mu,sigma):\n",
    "    z = (x-mu)/sigma\n",
    "    return z"
   ]
  },
  {
   "cell_type": "code",
   "execution_count": 43,
   "id": "9d081860",
   "metadata": {},
   "outputs": [
    {
     "name": "stdout",
     "output_type": "stream",
     "text": [
      "-1.1989143757660654\n",
      "-1.0938539660304676\n",
      "-1.0938539660304676\n",
      "-0.8312029416914726\n",
      "-1.1288741026090001\n",
      "-0.8312029416914726\n",
      "-1.0938539660304676\n",
      "-0.9712834880056032\n",
      "-0.9712834880056032\n",
      "-0.6561022587988093\n",
      "-0.7786727368236736\n",
      "-0.44598143932761336\n",
      "-0.44598143932761336\n",
      "-0.7786727368236736\n",
      "-0.9012432148485379\n",
      "-0.7786727368236736\n",
      "-0.691122395377342\n",
      "-0.44598143932761336\n",
      "-0.691122395377342\n",
      "-0.481001575906146\n",
      "-0.44598143932761336\n",
      "-0.7611626685344073\n",
      "-0.3934512344598144\n",
      "-0.638592190509543\n",
      "-0.3934512344598144\n",
      "-0.44598143932761336\n",
      "-0.44598143932761336\n",
      "-0.44598143932761336\n",
      "-1.1463841708982665\n",
      "-0.25337068814568375\n",
      "-0.5860619856417439\n",
      "-0.5860619856417439\n",
      "-0.2708807564349501\n",
      "-0.2708807564349501\n",
      "-0.638592190509543\n",
      "-0.481001575906146\n",
      "-0.481001575906146\n",
      "-0.2708807564349501\n",
      "-0.2708807564349501\n",
      "0.2194011556645071\n",
      "-0.3934512344598144\n",
      "-0.3934512344598144\n",
      "-0.2708807564349501\n",
      "-0.3934512344598144\n",
      "-0.42847137103834704\n",
      "-0.3059008930134827\n",
      "-0.3059008930134827\n",
      "-0.34092102959201537\n",
      "0.2194011556645071\n",
      "-0.04324986867448781\n",
      "-0.04324986867448781\n",
      "-0.04324986867448781\n",
      "-0.04324986867448781\n",
      "1.0949045701278235\n",
      "0.7447032043424969\n",
      "0.2194011556645071\n",
      "-0.37594116617054807\n",
      "-0.04324986867448781\n",
      "-0.3059008930134827\n",
      "-0.3059008930134827\n",
      "0.48205218000350203\n",
      "0.04430047277184383\n",
      "0.3945018385571704\n",
      "0.3945018385571704\n",
      "0.5696025214498337\n",
      "0.8322535457888286\n",
      "0.8322535457888286\n",
      "0.8322535457888286\n",
      "0.8322535457888286\n",
      "2.2330590089301348\n",
      "2.8459113990544562\n",
      "0.7797233409210296\n",
      "0.7797233409210296\n",
      "0.3945018385571704\n",
      "0.3945018385571704\n",
      "1.0073542286814918\n",
      "3.5813342672036423\n",
      "2.1104885309052706\n",
      "2.5482402381369287\n",
      "3.1085624233934515\n",
      "2.075468394326738\n"
     ]
    }
   ],
   "source": [
    "for value in cars[\"HP\"]:\n",
    "    z = z_scores(value,117.47,57.11)\n",
    "    print(z)"
   ]
  },
  {
   "cell_type": "code",
   "execution_count": 45,
   "id": "343bd157",
   "metadata": {},
   "outputs": [],
   "source": [
    "from scipy import stats"
   ]
  },
  {
   "cell_type": "code",
   "execution_count": 46,
   "id": "ed97a170",
   "metadata": {},
   "outputs": [
    {
     "data": {
      "text/plain": [
       "0.3151332517569887"
      ]
     },
     "execution_count": 46,
     "metadata": {},
     "output_type": "execute_result"
    }
   ],
   "source": [
    "# calculate from HP column the prob of finding HP <= 90\n",
    "stats.norm.cdf(90,117.49,57.11)"
   ]
  },
  {
   "cell_type": "code",
   "execution_count": 47,
   "id": "246b9efe",
   "metadata": {},
   "outputs": [
    {
     "data": {
      "text/plain": [
       "0.074263254333223"
      ]
     },
     "execution_count": 47,
     "metadata": {},
     "output_type": "execute_result"
    }
   ],
   "source": [
    "#estimating the prob of HP > 200\n",
    "1 - stats.norm.cdf(200,117.49,57.11)"
   ]
  },
  {
   "cell_type": "code",
   "execution_count": 48,
   "id": "0b37f13c",
   "metadata": {},
   "outputs": [
    {
     "data": {
      "text/plain": [
       "0.4596410174882275"
      ]
     },
     "execution_count": 48,
     "metadata": {},
     "output_type": "execute_result"
    }
   ],
   "source": [
    "#estimating the prob of 80<= HP <= 150\n",
    "stats.norm.cdf(150,117.49,57.11) - stats.norm.cdf(80,117.49,57.11)"
   ]
  },
  {
   "cell_type": "code",
   "execution_count": null,
   "id": "2b2f9636",
   "metadata": {},
   "outputs": [],
   "source": []
  }
 ],
 "metadata": {
  "kernelspec": {
   "display_name": "Python 3 (ipykernel)",
   "language": "python",
   "name": "python3"
  },
  "language_info": {
   "codemirror_mode": {
    "name": "ipython",
    "version": 3
   },
   "file_extension": ".py",
   "mimetype": "text/x-python",
   "name": "python",
   "nbconvert_exporter": "python",
   "pygments_lexer": "ipython3",
   "version": "3.11.4"
  }
 },
 "nbformat": 4,
 "nbformat_minor": 5
}
